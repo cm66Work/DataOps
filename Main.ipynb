{
 "cells": [
  {
   "cell_type": "markdown",
   "id": "70bfff05",
   "metadata": {},
   "source": [
    "# 1. Business Understanding\n",
    "**Objective:** Develop a robust machine learning model that can accurately classify handwritten digits (0-9), despite variations in handwriting styles.\n",
    "\n",
    "**Challenges:** High intra-class variance due to different writing styles, potential noise in images, and class imbalance.\n",
    "\n",
    "**Success Criteria:** Model performance will be evaluated based on accuracy, precision, recall, and robustness to difficult cases."
   ]
  },
  {
   "cell_type": "markdown",
   "id": "d31826b6",
   "metadata": {},
   "source": [
    "# 2. Data Understanding\n",
    "**Dataset:** The MNIST dataset, containing 70,000 gray scale images (60,000 for training, 10,000 for testing), each sized 28x28 pixels.\n",
    "## Feature Considerations:\n",
    "- Presence of closed loops (e.g., 0, 6, 8)\n",
    "- Stroke thickness variation\n",
    "- Aspect ratios and curvatures (e.g., distinguishing 1 from 7)\n",
    "- Edge detection and texture information"
   ]
  },
  {
   "cell_type": "markdown",
   "id": "cf5818db",
   "metadata": {},
   "source": [
    "# 3. Data Preparation"
   ]
  },
  {
   "cell_type": "code",
   "execution_count": 159,
   "id": "abb24499",
   "metadata": {},
   "outputs": [
    {
     "name": "stdout",
     "output_type": "stream",
     "text": [
      "loaded dataset from file. Shape of Images data set: (70000, 28, 28)\n"
     ]
    }
   ],
   "source": [
    "import numpy as np\n",
    "dataArrays = np.load(\"Imports/mnist_combined.npz\")\n",
    "\n",
    "dataImages = dataArrays['images']\n",
    "dataLables = dataArrays['labels']\n",
    "\n",
    "# we should have 70K images with an with and height of 28 pixels.\n",
    "print (\"loaded dataset from file. Shape of Images data set:\", dataImages.shape)"
   ]
  },
  {
   "cell_type": "markdown",
   "id": "153d8e96",
   "metadata": {},
   "source": [
    "\n",
    "## Preprocessing Steps:"
   ]
  },
  {
   "cell_type": "markdown",
   "id": "2e766080",
   "metadata": {},
   "source": [
    "### Cleaning the Images\n",
    "- Normalize pixel values (0-255 → 0-1)\n",
    "- Apply data augmentation (rotation, shifting, noise addition) to improve generalization\n",
    "\n",
    "\n",
    "#### Explanation\n",
    "Each pixel in the image is not in a binary state, they are on a gray scale which value can range from 0 to 255. So we first normalize every pixel to be a value of 0 or 1, which helps clean up the images a little.\n",
    "\n",
    "The result of this can cause the image is not most likely very noisy. So a GaussianBlur is applied to \"smooths\" out the image high frequency components and acts as a low-pass filter, with the goal of preserving the edges and boundaries of the number inside the image [1]. Or to but it another way: After we have applied the GaussianBlur, the hope is that there is only one connected set of pixels that make up the number inside the image, an there should be no orphans or single islands else where.\n",
    "\n",
    "Finally, we can use Binarization [2] to simplify features extraction later by highlighting digit strokes clearly. "
   ]
  },
  {
   "cell_type": "code",
   "execution_count": 160,
   "id": "9b269b8a",
   "metadata": {},
   "outputs": [],
   "source": [
    "import cv2\n",
    "\n",
    "def Preprocess_image(img):\n",
    "    \"Preprocess image: Normalize, remove noise, and binarize.\"\n",
    "    img = img / 255.0  # Normalize pixel values to range [0,1] for consistency across models.\n",
    "    img = cv2.GaussianBlur(img, (3, 3), 0)  # Apply Gaussian blur to reduce small noise artifacts. (3,3): K-size need to be tested. IMPORTANT!!! keep these numbers odd and grater than or equal to 0\n",
    "    ret, img = cv2.threshold(img, 0.5, 1.0, cv2.THRESH_BINARY)  # Convert to binary format to simplify features. [2]\n",
    "    print(ret)\n",
    "    return img"
   ]
  },
  {
   "cell_type": "markdown",
   "id": "1f6e6cf2",
   "metadata": {},
   "source": [
    "### Extraction Steps\n",
    "- Edge direction for stroke shape vector creation (Histogram of Oriented Gradients [4] [5] [6])\n",
    "- Edge filtering using Sobel filter \n",
    "- Image Zoning for pixel shape similarity identification comparison\n",
    "- Principal Component Analysis (PCA) for dimensionality reduction\n",
    "- Convert images into numerical feature vectors for models that require structured input\n",
    "\n",
    "#### Explanation"
   ]
  },
  {
   "cell_type": "code",
   "execution_count": 161,
   "id": "95ed73b9",
   "metadata": {},
   "outputs": [],
   "source": [
    "from skimage.feature import hog\n",
    "# Extracts Histogram of Oriented Gradients from a given image.\n",
    "def Histogram_of_Oriented_Gradients(img):\n",
    "    # Size in pixels for each cell block\n",
    "    pixelsPerCell = (4,4)\n",
    "    # Cells per block to look at\n",
    "    cellsPerBlock = (2,2) \n",
    "    # Return the data as a vector\n",
    "    featureVector = True\n",
    "\n",
    "    # We are telling hog that each cell is 4 by 4 per cell,\n",
    "    # and we want hog to normalize an area of 2 by 2 cell blocks.\n",
    "    # This totals 4x2 by 4x2 :> 16 total pixels looked at to calculate the\n",
    "    # vector. This helps reduce noise and \"smooth\" out the vector a little.\n",
    "\n",
    "    # TODO:: look into this a little more as I feel that I am not 100% sure I fully understand\n",
    "    ## this step.\n",
    "    return hog(img, pixels_per_cell=pixelsPerCell, cells_per_block=cellsPerBlock, feature_vector=featureVector)\n"
   ]
  },
  {
   "cell_type": "code",
   "execution_count": 162,
   "id": "1d4ad7a1",
   "metadata": {},
   "outputs": [],
   "source": [
    "from skimage.filters import sobel\n",
    "def Sobel_Edge_Detection(img):\n",
    "    # enhance edge contrast, making digit contours clearer for feature extraction\n",
    "    return sobel(img).flatten()"
   ]
  },
  {
   "cell_type": "code",
   "execution_count": 163,
   "id": "c8088b27",
   "metadata": {},
   "outputs": [],
   "source": [
    "def Extract_features(img):\n",
    "    # Use HOG to identify differences in digits based on stroke patterns.\n",
    "    #TODO:: Look into this more for a better understanding, at the moment\n",
    "    ## I am just doing this because it is recommended by the guide.\n",
    "    hog_features = Histogram_of_Oriented_Gradients(img)\n",
    "\n",
    "    # Edge detection using sobel filter\n",
    "    edge_features = Sobel_Edge_Detection(img)\n",
    "\n",
    "    # Split image into 4 by 4 regions and calculate pixel densities\n",
    "    zones = []\n",
    "    for i in range(0,28, 7):\n",
    "        for j in range (0, 28, 7):\n",
    "            zone = img[i:i+7, j:j+7]\n",
    "            zones.append(np.sum(zone))\n",
    "\n",
    "    features = np.hstack([hog_features, edge_features])\n",
    "    return features"
   ]
  },
  {
   "cell_type": "markdown",
   "id": "552459be",
   "metadata": {},
   "source": [
    "### Explanation of above"
   ]
  },
  {
   "cell_type": "markdown",
   "id": "80dbf8cc",
   "metadata": {},
   "source": [
    "### Running the code"
   ]
  },
  {
   "cell_type": "code",
   "execution_count": null,
   "id": "bc06dc17",
   "metadata": {},
   "outputs": [
    {
     "name": "stdout",
     "output_type": "stream",
     "text": [
      "0.5\n"
     ]
    },
    {
     "data": {
      "image/png": "[encoded data removed]",
      "text/plain": [
       "<Figure size 800x400 with 2 Axes>"
      ]
     },
     "metadata": {},
     "output_type": "display_data"
    },
    {
     "name": "stdout",
     "output_type": "stream",
     "text": [
      "Extracted feature vector shape: [0. 0. 0. ... 0. 0. 0.]\n"
     ]
    }
   ],
   "source": [
    "import matplotlib.pyplot as plt\n",
    "\n",
    "image_sample = np.random.randint(0,len(dataImages)) # Testing: Select a random image\n",
    "image_original = dataImages[image_sample].reshape(28,28)\n",
    "\n",
    "image_processed = Preprocess_image(image_original)\n",
    "\n",
    "# Extract features, pass in the \"Cleaned\" processed image.\n",
    "features = Extract_features(image_processed)\n",
    "\n",
    "plt.figure(figsize=(8,4))\n",
    "plt.subplot(1,2,1)\n",
    "plt.imshow(image_original, cmap='gray')\n",
    "plt.title(\"Original Image\")\n",
    "plt.subplot(1,2,2)\n",
    "plt.imshow(image_processed, cmap='gray')\n",
    "plt.title(\"Processed Image\")\n",
    "plt.show()\n",
    "\n",
    "print(\"Extracted feature vector shape:\", features.shape) # Look into why the feature vector shape is always 2080?"
   ]
  },
  {
   "cell_type": "markdown",
   "id": "423c5118",
   "metadata": {},
   "source": [
    "# 4. Modeling\n",
    "**Baseline Model:** Logistic Regression or k-NN for quick benchmarking."
   ]
  },
  {
   "cell_type": "code",
   "execution_count": null,
   "id": "180753f3",
   "metadata": {},
   "outputs": [],
   "source": []
  },
  {
   "cell_type": "markdown",
   "id": "ce2fb9e5",
   "metadata": {},
   "source": [
    "## ML Approaches:\n",
    "- Support Vector Machine (SVM) with HOG features\n",
    "- Random Forest or XGBoost on extracted features"
   ]
  },
  {
   "cell_type": "markdown",
   "id": "f6123fdb",
   "metadata": {},
   "source": [
    "# 5. Evaluation\n",
    "**Metrics:**\n",
    "- Accuracy (primary metric)\n",
    "- Confusion Matrix to analyze misclassifications\n",
    "- Precision, Recall, F1-score for class-specific performance\n",
    "- Robustness Testing:\n",
    "- Evaluate on distorted and rotated images\n",
    "- Assess performance on ambiguous samples"
   ]
  },
  {
   "cell_type": "markdown",
   "id": "7fd2e0e4",
   "metadata": {},
   "source": [
    "# 6. References\n",
    "## Image pre-processing\n",
    "[1]“Gaussian Blur - an overview | ScienceDirect Topics,” www.sciencedirect.com. https://www.sciencedirect.com/topics/engineering/gaussian-blur\n",
    "\n",
    "[2]“Python | Thresholding techniques using OpenCV | Set-1 (Simple Thresholding) - GeeksforGeeks,” GeeksforGeeks, May 06, 2019. https://www.geeksforgeeks.org/python-thresholding-techniques-using-opencv-set-1-simple-thresholding/\n",
    "‌\n",
    "\n",
    "[3]F. Daghero, D. J. Pagliari, and M. Poncino, “Energy-efficient deep learning inference on edge devices,” Advances in Computers, pp. 247–301, 2021, doi: https://doi.org/10.1016/bs.adcom.2020.07.002.\n",
    "\n",
    "## Histogram of Gradients\n",
    "[4]UCF CRCV, “Lecture 9.3: Features [Histogram of Gradients] [HOG],” YouTube, Jul. 26, 2023. https://www.youtube.com/watch?v=92-NaIdIrEs (accessed Mar. 15, 2025).\n",
    "‌‌\n",
    "\n",
    "[5]R. Manavalan, “Automatic identification of diseases in grains crops through computational approaches: A review,” Computers and Electronics in Agriculture, vol. 178, p. 105802, Nov. 2020, doi: https://doi.org/10.1016/j.compag.2020.105802.\n",
    "\n",
    "\n",
    "[6]Skillcate AI, “HOG Intuition | Simple Explanation | Feature Descriptor & Engineering,” YouTube, Jun. 13, 2021. https://www.youtube.com/watch?v=5nZGnYPyKLU (accessed Mar. 15, 2025).\n",
    "\n",
    "## Sobel Filter\n",
    "[7]“Sobel Filter - an overview | ScienceDirect Topics,” www.sciencedirect.com. https://www.sciencedirect.com/topics/computer-science/sobel-filter\n",
    "‌\n",
    "‌\n",
    "‌"
   ]
  }
 ],
 "metadata": {
  "kernelspec": {
   "display_name": "Python 3",
   "language": "python",
   "name": "python3"
  },
  "language_info": {
   "codemirror_mode": {
    "name": "ipython",
    "version": 3
   },
   "file_extension": ".py",
   "mimetype": "text/x-python",
   "name": "python",
   "nbconvert_exporter": "python",
   "pygments_lexer": "ipython3",
   "version": "3.10.12"
  }
 },
 "nbformat": 4,
 "nbformat_minor": 5
}
